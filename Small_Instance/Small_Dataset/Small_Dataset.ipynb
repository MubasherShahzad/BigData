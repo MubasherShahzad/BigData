{
 "cells": [
  {
   "cell_type": "code",
   "execution_count": 1,
   "metadata": {},
   "outputs": [],
   "source": [
    "\n",
    "import pandas as pd\n",
    "import numpy as np\n",
    "import model_evaluation_utils as meu\n",
    "from sklearn.model_selection import train_test_split\n",
    "import LoggerYN as YN\n",
    "\n",
    "import time\n",
    "\n",
    "import datetime\n",
    "\n",
    "import pandas as pd\n",
    "import numpy as np\n",
    "from sklearn.model_selection import *\n",
    "from sklearn.linear_model import *\n",
    "from sklearn.preprocessing import *\n",
    "from sklearn.metrics import *\n",
    "import sklearn\n",
    "from sklearn import linear_model\n",
    "from sklearn import tree \n",
    "from sklearn import ensemble\n"
   ]
  },
  {
   "cell_type": "code",
   "execution_count": 2,
   "metadata": {},
   "outputs": [],
   "source": [
    "df = pd.read_csv('phpvcoG8S', sep=None,engine='python', header=0)\n"
   ]
  },
  {
   "cell_type": "code",
   "execution_count": 3,
   "metadata": {},
   "outputs": [
    {
     "data": {
      "text/plain": [
       "Airline         int8\n",
       "Flight         int64\n",
       "AirportFrom    int16\n",
       "AirportTo      int16\n",
       "DayOfWeek      int64\n",
       "Time           int64\n",
       "Length         int64\n",
       "Delay          int64\n",
       "dtype: object"
      ]
     },
     "execution_count": 3,
     "metadata": {},
     "output_type": "execute_result"
    }
   ],
   "source": [
    "# In[6]:\n",
    "\n",
    "\n",
    "df.Delay.value_counts()\n",
    "\n",
    "\n",
    "df.describe(include='all')\n",
    "\n",
    "\n",
    "# In[8]:\n",
    "\n",
    "\n",
    "df.dtypes\n",
    "\n",
    "\n",
    "# In[9]:\n",
    "\n",
    "\n",
    "df[\"AirportFrom\"] = df[\"AirportFrom\"].astype('category').cat.codes\n",
    "df[\"Airline\"] = df[\"Airline\"].astype('category').cat.codes\n",
    "df[\"AirportTo\"] = df[\"AirportTo\"].astype('category').cat.codes\n",
    "df.dtypes"
   ]
  },
  {
   "cell_type": "code",
   "execution_count": 4,
   "metadata": {},
   "outputs": [],
   "source": [
    "X = df.drop('Delay',axis=1)\n",
    "y = df.pop('Delay')\n",
    "\n",
    "\n",
    "X_train,X_test,y_train,y_test = train_test_split(X,y,train_size=0.80,random_state=0) \n"
   ]
  },
  {
   "cell_type": "code",
   "execution_count": 5,
   "metadata": {},
   "outputs": [],
   "source": [
    "from sklearn.tree import DecisionTreeClassifier\n",
    "from sklearn.ensemble import RandomForestClassifier\n",
    "from sklearn.linear_model import LogisticRegression\n",
    "from sklearn.neighbors import KNeighborsClassifier\n",
    "import xgboost as xgb\n",
    "from sklearn.svm import SVC\n",
    "\n",
    "\n",
    "DT = DecisionTreeClassifier()\n",
    "LR = LogisticRegression(max_iter=1000000)\n",
    "RF = RandomForestClassifier(n_jobs=-1)\n",
    "XGB = xgb.XGBClassifier(n_jobs=-1)\n",
    "KNN = KNeighborsClassifier(n_jobs=-1)\n",
    "class_labels = list(set(y))\n"
   ]
  },
  {
   "cell_type": "code",
   "execution_count": 6,
   "metadata": {},
   "outputs": [
    {
     "name": "stdout",
     "output_type": "stream",
     "text": [
      "Model Performance metrics:\n",
      "------------------------------\n",
      "Accuracy: 0.6088\n",
      "Precision: 0.6045\n",
      "Recall: 0.6088\n",
      "F1 Score: 0.6034\n",
      "\n",
      "Model Classification report:\n",
      "------------------------------\n",
      "              precision    recall  f1-score   support\n",
      "\n",
      "           0       0.63      0.71      0.67     60014\n",
      "           1       0.57      0.48      0.52     47863\n",
      "\n",
      "    accuracy                           0.61    107877\n",
      "   macro avg       0.60      0.60      0.59    107877\n",
      "weighted avg       0.60      0.61      0.60    107877\n",
      "\n",
      "total time Linear Model Decision Tree  0:00:03.444745\n",
      "Model Performance metrics:\n",
      "------------------------------\n",
      "Accuracy: 0.5847\n",
      "Precision: 0.5769\n",
      "Recall: 0.5847\n",
      "F1 Score: 0.5666\n",
      "\n",
      "Model Classification report:\n",
      "------------------------------\n",
      "              precision    recall  f1-score   support\n",
      "\n",
      "           0       0.60      0.76      0.67     60014\n",
      "           1       0.55      0.36      0.43     47863\n",
      "\n",
      "    accuracy                           0.58    107877\n",
      "   macro avg       0.57      0.56      0.55    107877\n",
      "weighted avg       0.58      0.58      0.57    107877\n",
      "\n",
      "total time Linear Model Logistic Regression 0:00:05.218938\n",
      "Model Performance metrics:\n",
      "------------------------------\n",
      "Accuracy: 0.6422\n",
      "Precision: 0.6401\n",
      "Recall: 0.6422\n",
      "F1 Score: 0.6405\n",
      "\n",
      "Model Classification report:\n",
      "------------------------------\n",
      "              precision    recall  f1-score   support\n",
      "\n",
      "           0       0.67      0.71      0.69     60014\n",
      "           1       0.60      0.56      0.58     47863\n",
      "\n",
      "    accuracy                           0.64    107877\n",
      "   macro avg       0.64      0.63      0.63    107877\n",
      "weighted avg       0.64      0.64      0.64    107877\n",
      "\n",
      "total time Linear Model KNN 0:00:05.748421\n"
     ]
    }
   ],
   "source": [
    "\n",
    "# # Linear Model\n",
    "\n",
    "memT,cpuT,gpuT = YN.StartLogger(\"Dataset_S_Instance_S\",\"LinearModel_DT\")\n",
    "start = time.time()\n",
    "DT.fit(X_train,y_train)\n",
    "predictions = DT.predict(X_test)\n",
    "meu.display_model_performance_metrics(true_labels=y_test, predicted_labels=predictions, classes=class_labels)\n",
    "end = time.time()\n",
    "YN.EndLogger(memT,cpuT,gpuT)\n",
    "print(\"total time Linear Model Decision Tree \", str(datetime.timedelta(seconds=end-start)))\n",
    "\n",
    "# # Linear Model\n",
    "\n",
    "memT,cpuT,gpuT = YN.StartLogger(\"Dataset_S_Instance_S\",\"LinearModel_LR\")\n",
    "start = time.time()\n",
    "LR.fit(X_train,y_train)\n",
    "predictions = LR.predict(X_test)\n",
    "meu.display_model_performance_metrics(true_labels=y_test, predicted_labels=predictions, classes=class_labels)\n",
    "end = time.time()\n",
    "YN.EndLogger(memT,cpuT,gpuT)\n",
    "print(\"total time Linear Model Logistic Regression\", str(datetime.timedelta(seconds=end-start)))\n",
    "\n",
    "\n",
    "\n",
    "\n",
    "memT,cpuT,gpuT = YN.StartLogger(\"Dataset_S_Instance_S\",\"LinearModel_KNN\")\n",
    "start = time.time()\n",
    "KNN.fit(X_train,y_train)\n",
    "predictions = KNN.predict(X_test)\n",
    "meu.display_model_performance_metrics(true_labels=y_test, predicted_labels=predictions, classes=class_labels)\n",
    "end = time.time()\n",
    "YN.EndLogger(memT,cpuT,gpuT)\n",
    "print(\"total time Linear Model KNN\", str(datetime.timedelta(seconds=end-start)))"
   ]
  },
  {
   "cell_type": "code",
   "execution_count": 11,
   "metadata": {},
   "outputs": [
    {
     "name": "stdout",
     "output_type": "stream",
     "text": [
      "Model Performance metrics:\n",
      "------------------------------\n",
      "Accuracy: 0.619\n",
      "Precision: 0.618\n",
      "Recall: 0.619\n",
      "F1 Score: 0.6184\n",
      "\n",
      "Model Classification report:\n",
      "------------------------------\n",
      "              precision    recall  f1-score   support\n",
      "\n",
      "           0       0.65      0.67      0.66     60014\n",
      "           1       0.57      0.56      0.56     47863\n",
      "\n",
      "    accuracy                           0.62    107877\n",
      "   macro avg       0.61      0.61      0.61    107877\n",
      "weighted avg       0.62      0.62      0.62    107877\n",
      "\n",
      "total time Non-Linear Model RF 0:01:13.643775\n"
     ]
    }
   ],
   "source": [
    "# In[18]:\n",
    "start = time.time()\n",
    "memT,cpuT,gpuT = YN.StartLogger(\"Dataset_S_Instance_S\",\"Non-LinearModel_RF\")\n",
    "RF.fit(X_train,y_train)\n",
    "predictions = RF.predict(X_test)\n",
    "meu.display_model_performance_metrics(true_labels=y_test, predicted_labels=predictions, classes=class_labels)\n",
    "end = time.time()\n",
    "YN.EndLogger(memT,cpuT,gpuT)\n",
    "print(\"total time Non-Linear Model RF\", str(datetime.timedelta(seconds=end-start)))"
   ]
  },
  {
   "cell_type": "code",
   "execution_count": 9,
   "metadata": {},
   "outputs": [
    {
     "name": "stdout",
     "output_type": "stream",
     "text": [
      "Model Performance metrics:\n",
      "------------------------------\n",
      "Accuracy: 0.6674\n",
      "Precision: 0.6669\n",
      "Recall: 0.6674\n",
      "F1 Score: 0.6593\n",
      "\n",
      "Model Classification report:\n",
      "------------------------------\n",
      "              precision    recall  f1-score   support\n",
      "\n",
      "           0       0.67      0.80      0.73     60014\n",
      "           1       0.66      0.51      0.57     47863\n",
      "\n",
      "    accuracy                           0.67    107877\n",
      "   macro avg       0.67      0.65      0.65    107877\n",
      "weighted avg       0.67      0.67      0.66    107877\n",
      "\n",
      "total time Non-Linear Model XGB 0:00:36.644079\n"
     ]
    }
   ],
   "source": [
    "start = time.time()\n",
    "memT,cpuT,gpuT = YN.StartLogger(\"Dataset_S_Instance_S\",\"Non-LinearModel_XGB\")\n",
    "XGB.fit(X_train,y_train)\n",
    "predictions = XGB.predict(X_test)\n",
    "meu.display_model_performance_metrics(true_labels=y_test, predicted_labels=predictions, classes=class_labels)\n",
    "end = time.time()\n",
    "YN.EndLogger(memT,cpuT,gpuT)\n",
    "print(\"total time Non-Linear Model XGB\", str(datetime.timedelta(seconds=end-start)))"
   ]
  },
  {
   "cell_type": "code",
   "execution_count": null,
   "metadata": {},
   "outputs": [],
   "source": []
  },
  {
   "cell_type": "code",
   "execution_count": null,
   "metadata": {},
   "outputs": [],
   "source": [
    "\n"
   ]
  }
 ],
 "metadata": {
  "kernelspec": {
   "display_name": "Python 3",
   "language": "python",
   "name": "python3"
  },
  "language_info": {
   "codemirror_mode": {
    "name": "ipython",
    "version": 3
   },
   "file_extension": ".py",
   "mimetype": "text/x-python",
   "name": "python",
   "nbconvert_exporter": "python",
   "pygments_lexer": "ipython3",
   "version": "3.6.10"
  }
 },
 "nbformat": 4,
 "nbformat_minor": 2
}
