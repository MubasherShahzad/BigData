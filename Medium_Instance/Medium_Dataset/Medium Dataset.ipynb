{
 "cells": [
  {
   "cell_type": "code",
   "execution_count": 1,
   "metadata": {},
   "outputs": [],
   "source": [
    "\n",
    "import pandas as pd\n",
    "import numpy as np\n",
    "import model_evaluation_utils as meu\n",
    "from sklearn.model_selection import train_test_split\n",
    "import LoggerYN as YN\n",
    "\n",
    "import time\n",
    "\n",
    "import datetime\n",
    "\n",
    "import pandas as pd\n",
    "import numpy as np\n",
    "from sklearn.model_selection import *\n",
    "from sklearn.linear_model import *\n",
    "from sklearn.preprocessing import *\n",
    "from sklearn.metrics import *\n",
    "import sklearn\n",
    "from sklearn import linear_model\n",
    "from sklearn import tree \n",
    "from sklearn import ensemble\n",
    "\n",
    "\n",
    "# In[5]:\n",
    "\n",
    "\n"
   ]
  },
  {
   "cell_type": "code",
   "execution_count": 2,
   "metadata": {},
   "outputs": [],
   "source": [
    "df = pd.read_csv('AirlinesCodrnaAdult.csv', sep=None,engine='python', header=0)"
   ]
  },
  {
   "cell_type": "code",
   "execution_count": 3,
   "metadata": {},
   "outputs": [
    {
     "data": {
      "text/plain": [
       "Airline           0\n",
       "Flight            0\n",
       "AirportFrom       0\n",
       "AirportTo         0\n",
       "DayOfWeek         0\n",
       "Time              0\n",
       "Length            0\n",
       "codrna_X1         0\n",
       "codrna_X2         0\n",
       "codrna_X3         0\n",
       "codrna_X4         0\n",
       "codrna_X5         0\n",
       "codrna_X6         0\n",
       "codrna_X7         0\n",
       "codrna_X8         0\n",
       "age               0\n",
       "workclass         0\n",
       "fnlwgt            0\n",
       "education         0\n",
       "education-num     0\n",
       "marital-status    0\n",
       "occupation        0\n",
       "relationship      0\n",
       "race              0\n",
       "sex               0\n",
       "capitalgain       0\n",
       "capitalloss       0\n",
       "hoursperweek      0\n",
       "native-country    0\n",
       "Delay             0\n",
       "dtype: int64"
      ]
     },
     "execution_count": 3,
     "metadata": {},
     "output_type": "execute_result"
    }
   ],
   "source": [
    "df.isnull().sum()"
   ]
  },
  {
   "cell_type": "code",
   "execution_count": 4,
   "metadata": {},
   "outputs": [],
   "source": [
    "df = df[[\"Airline\",\"Flight\",\"AirportFrom\",\"AirportTo\",\"DayOfWeek\",\"Time\",\"Length\",\"Delay\"]]"
   ]
  },
  {
   "cell_type": "code",
   "execution_count": 5,
   "metadata": {},
   "outputs": [
    {
     "data": {
      "text/plain": [
       "Airline        object\n",
       "Flight          int64\n",
       "AirportFrom    object\n",
       "AirportTo      object\n",
       "DayOfWeek       int64\n",
       "Time            int64\n",
       "Length          int64\n",
       "Delay           int64\n",
       "dtype: object"
      ]
     },
     "execution_count": 5,
     "metadata": {},
     "output_type": "execute_result"
    }
   ],
   "source": [
    "df.dtypes"
   ]
  },
  {
   "cell_type": "code",
   "execution_count": 6,
   "metadata": {},
   "outputs": [
    {
     "data": {
      "text/html": [
       "<div>\n",
       "<style scoped>\n",
       "    .dataframe tbody tr th:only-of-type {\n",
       "        vertical-align: middle;\n",
       "    }\n",
       "\n",
       "    .dataframe tbody tr th {\n",
       "        vertical-align: top;\n",
       "    }\n",
       "\n",
       "    .dataframe thead th {\n",
       "        text-align: right;\n",
       "    }\n",
       "</style>\n",
       "<table border=\"1\" class=\"dataframe\">\n",
       "  <thead>\n",
       "    <tr style=\"text-align: right;\">\n",
       "      <th></th>\n",
       "      <th>Airline</th>\n",
       "      <th>Flight</th>\n",
       "      <th>AirportFrom</th>\n",
       "      <th>AirportTo</th>\n",
       "      <th>DayOfWeek</th>\n",
       "      <th>Time</th>\n",
       "      <th>Length</th>\n",
       "      <th>Delay</th>\n",
       "    </tr>\n",
       "  </thead>\n",
       "  <tbody>\n",
       "    <tr>\n",
       "      <th>count</th>\n",
       "      <td>1076790</td>\n",
       "      <td>1.076790e+06</td>\n",
       "      <td>1076790</td>\n",
       "      <td>1076790</td>\n",
       "      <td>1.076790e+06</td>\n",
       "      <td>1.076790e+06</td>\n",
       "      <td>1.076790e+06</td>\n",
       "      <td>1.076790e+06</td>\n",
       "    </tr>\n",
       "    <tr>\n",
       "      <th>unique</th>\n",
       "      <td>18</td>\n",
       "      <td>NaN</td>\n",
       "      <td>293</td>\n",
       "      <td>293</td>\n",
       "      <td>NaN</td>\n",
       "      <td>NaN</td>\n",
       "      <td>NaN</td>\n",
       "      <td>NaN</td>\n",
       "    </tr>\n",
       "    <tr>\n",
       "      <th>top</th>\n",
       "      <td>AS</td>\n",
       "      <td>NaN</td>\n",
       "      <td>ANC</td>\n",
       "      <td>ORD</td>\n",
       "      <td>NaN</td>\n",
       "      <td>NaN</td>\n",
       "      <td>NaN</td>\n",
       "      <td>NaN</td>\n",
       "    </tr>\n",
       "    <tr>\n",
       "      <th>freq</th>\n",
       "      <td>540102</td>\n",
       "      <td>NaN</td>\n",
       "      <td>529770</td>\n",
       "      <td>553735</td>\n",
       "      <td>NaN</td>\n",
       "      <td>NaN</td>\n",
       "      <td>NaN</td>\n",
       "      <td>NaN</td>\n",
       "    </tr>\n",
       "    <tr>\n",
       "      <th>mean</th>\n",
       "      <td>NaN</td>\n",
       "      <td>1.297265e+03</td>\n",
       "      <td>NaN</td>\n",
       "      <td>NaN</td>\n",
       "      <td>4.463854e+00</td>\n",
       "      <td>1.102698e+03</td>\n",
       "      <td>2.372352e+02</td>\n",
       "      <td>5.601259e-01</td>\n",
       "    </tr>\n",
       "    <tr>\n",
       "      <th>std</th>\n",
       "      <td>NaN</td>\n",
       "      <td>1.863362e+03</td>\n",
       "      <td>NaN</td>\n",
       "      <td>NaN</td>\n",
       "      <td>1.456960e+00</td>\n",
       "      <td>3.593754e+02</td>\n",
       "      <td>1.174094e+02</td>\n",
       "      <td>4.963719e-01</td>\n",
       "    </tr>\n",
       "    <tr>\n",
       "      <th>min</th>\n",
       "      <td>NaN</td>\n",
       "      <td>1.000000e+00</td>\n",
       "      <td>NaN</td>\n",
       "      <td>NaN</td>\n",
       "      <td>1.000000e+00</td>\n",
       "      <td>1.000000e+01</td>\n",
       "      <td>0.000000e+00</td>\n",
       "      <td>0.000000e+00</td>\n",
       "    </tr>\n",
       "    <tr>\n",
       "      <th>25%</th>\n",
       "      <td>NaN</td>\n",
       "      <td>1.380000e+02</td>\n",
       "      <td>NaN</td>\n",
       "      <td>NaN</td>\n",
       "      <td>4.000000e+00</td>\n",
       "      <td>7.950000e+02</td>\n",
       "      <td>1.150000e+02</td>\n",
       "      <td>0.000000e+00</td>\n",
       "    </tr>\n",
       "    <tr>\n",
       "      <th>50%</th>\n",
       "      <td>NaN</td>\n",
       "      <td>1.380000e+02</td>\n",
       "      <td>NaN</td>\n",
       "      <td>NaN</td>\n",
       "      <td>5.000000e+00</td>\n",
       "      <td>1.355000e+03</td>\n",
       "      <td>3.450000e+02</td>\n",
       "      <td>1.000000e+00</td>\n",
       "    </tr>\n",
       "    <tr>\n",
       "      <th>75%</th>\n",
       "      <td>NaN</td>\n",
       "      <td>1.836000e+03</td>\n",
       "      <td>NaN</td>\n",
       "      <td>NaN</td>\n",
       "      <td>5.000000e+00</td>\n",
       "      <td>1.405000e+03</td>\n",
       "      <td>3.450000e+02</td>\n",
       "      <td>1.000000e+00</td>\n",
       "    </tr>\n",
       "    <tr>\n",
       "      <th>max</th>\n",
       "      <td>NaN</td>\n",
       "      <td>7.814000e+03</td>\n",
       "      <td>NaN</td>\n",
       "      <td>NaN</td>\n",
       "      <td>7.000000e+00</td>\n",
       "      <td>1.439000e+03</td>\n",
       "      <td>6.550000e+02</td>\n",
       "      <td>1.000000e+00</td>\n",
       "    </tr>\n",
       "  </tbody>\n",
       "</table>\n",
       "</div>"
      ],
      "text/plain": [
       "        Airline        Flight AirportFrom AirportTo     DayOfWeek  \\\n",
       "count   1076790  1.076790e+06     1076790   1076790  1.076790e+06   \n",
       "unique       18           NaN         293       293           NaN   \n",
       "top          AS           NaN         ANC       ORD           NaN   \n",
       "freq     540102           NaN      529770    553735           NaN   \n",
       "mean        NaN  1.297265e+03         NaN       NaN  4.463854e+00   \n",
       "std         NaN  1.863362e+03         NaN       NaN  1.456960e+00   \n",
       "min         NaN  1.000000e+00         NaN       NaN  1.000000e+00   \n",
       "25%         NaN  1.380000e+02         NaN       NaN  4.000000e+00   \n",
       "50%         NaN  1.380000e+02         NaN       NaN  5.000000e+00   \n",
       "75%         NaN  1.836000e+03         NaN       NaN  5.000000e+00   \n",
       "max         NaN  7.814000e+03         NaN       NaN  7.000000e+00   \n",
       "\n",
       "                Time        Length         Delay  \n",
       "count   1.076790e+06  1.076790e+06  1.076790e+06  \n",
       "unique           NaN           NaN           NaN  \n",
       "top              NaN           NaN           NaN  \n",
       "freq             NaN           NaN           NaN  \n",
       "mean    1.102698e+03  2.372352e+02  5.601259e-01  \n",
       "std     3.593754e+02  1.174094e+02  4.963719e-01  \n",
       "min     1.000000e+01  0.000000e+00  0.000000e+00  \n",
       "25%     7.950000e+02  1.150000e+02  0.000000e+00  \n",
       "50%     1.355000e+03  3.450000e+02  1.000000e+00  \n",
       "75%     1.405000e+03  3.450000e+02  1.000000e+00  \n",
       "max     1.439000e+03  6.550000e+02  1.000000e+00  "
      ]
     },
     "execution_count": 6,
     "metadata": {},
     "output_type": "execute_result"
    }
   ],
   "source": [
    "df.describe(include='all')"
   ]
  },
  {
   "cell_type": "code",
   "execution_count": 7,
   "metadata": {},
   "outputs": [
    {
     "data": {
      "text/plain": [
       "1    603138\n",
       "0    473652\n",
       "Name: Delay, dtype: int64"
      ]
     },
     "execution_count": 7,
     "metadata": {},
     "output_type": "execute_result"
    }
   ],
   "source": [
    "df.Delay.value_counts()"
   ]
  },
  {
   "cell_type": "code",
   "execution_count": 8,
   "metadata": {},
   "outputs": [],
   "source": [
    "for column in (df.select_dtypes(include=['object']).columns):\n",
    "    df[column] = df[column].astype('category').cat.codes"
   ]
  },
  {
   "cell_type": "code",
   "execution_count": 9,
   "metadata": {},
   "outputs": [
    {
     "data": {
      "text/plain": [
       "Airline         int8\n",
       "Flight         int64\n",
       "AirportFrom    int16\n",
       "AirportTo      int16\n",
       "DayOfWeek      int64\n",
       "Time           int64\n",
       "Length         int64\n",
       "Delay          int64\n",
       "dtype: object"
      ]
     },
     "execution_count": 9,
     "metadata": {},
     "output_type": "execute_result"
    }
   ],
   "source": [
    "df.dtypes"
   ]
  },
  {
   "cell_type": "code",
   "execution_count": 10,
   "metadata": {},
   "outputs": [],
   "source": [
    "X = df.drop('Delay',axis=1)\n",
    "y = df.pop('Delay')\n",
    "\n",
    "\n",
    "X_train,X_test,y_train,y_test = train_test_split(X,y,train_size=0.80,random_state=0) "
   ]
  },
  {
   "cell_type": "code",
   "execution_count": 11,
   "metadata": {},
   "outputs": [],
   "source": [
    "from sklearn.tree import DecisionTreeClassifier\n",
    "from sklearn.ensemble import RandomForestClassifier\n",
    "from sklearn.linear_model import LogisticRegression\n",
    "from sklearn.neighbors import KNeighborsClassifier\n",
    "import xgboost as xgb\n",
    "from sklearn.svm import SVC\n",
    "\n",
    "\n",
    "DT = DecisionTreeClassifier()\n",
    "LR = LogisticRegression(max_iter=1000000,n_jobs=-1)\n",
    "RF = RandomForestClassifier(n_jobs=-1)\n",
    "XGB = xgb.XGBClassifier(n_jobs=-1)\n",
    "KNN = KNeighborsClassifier(n_jobs=-1)\n",
    "class_labels = list(set(y))"
   ]
  },
  {
   "cell_type": "code",
   "execution_count": 12,
   "metadata": {},
   "outputs": [
    {
     "name": "stdout",
     "output_type": "stream",
     "text": [
      "Model Performance metrics:\n",
      "------------------------------\n",
      "Accuracy: 0.6415\n",
      "Precision: 0.6393\n",
      "Recall: 0.6415\n",
      "F1 Score: 0.6298\n",
      "\n",
      "Model Classification report:\n",
      "------------------------------\n",
      "              precision    recall  f1-score   support\n",
      "\n",
      "           0       0.63      0.45      0.53     94841\n",
      "           1       0.65      0.79      0.71    120517\n",
      "\n",
      "    accuracy                           0.64    215358\n",
      "   macro avg       0.64      0.62      0.62    215358\n",
      "weighted avg       0.64      0.64      0.63    215358\n",
      "\n",
      "total time Linear Model Decision Tree DT  0:00:04.625458\n",
      "Model Performance metrics:\n",
      "------------------------------\n",
      "Accuracy: 0.6206\n",
      "Precision: 0.6163\n",
      "Recall: 0.6206\n",
      "F1 Score: 0.6081\n",
      "\n",
      "Model Classification report:\n",
      "------------------------------\n",
      "              precision    recall  f1-score   support\n",
      "\n",
      "           0       0.60      0.43      0.50     94841\n",
      "           1       0.63      0.77      0.70    120517\n",
      "\n",
      "    accuracy                           0.62    215358\n",
      "   macro avg       0.61      0.60      0.60    215358\n",
      "weighted avg       0.62      0.62      0.61    215358\n",
      "\n",
      "total time Linear Model Logistic Regression 0:00:16.932567\n"
     ]
    }
   ],
   "source": [
    "\n",
    "# # Linear Model\n",
    "\n",
    "memT,cpuT,gpuT = YN.StartLogger(\"Dataset_M_Instance_M\",\"LinearModel_DT\")\n",
    "start = time.time()\n",
    "DT.fit(X_train,y_train)\n",
    "predictions = DT.predict(X_test)\n",
    "meu.display_model_performance_metrics(true_labels=y_test, predicted_labels=predictions, classes=class_labels)\n",
    "end = time.time()\n",
    "YN.EndLogger(memT,cpuT,gpuT)\n",
    "print(\"total time Linear Model Decision Tree DT \", str(datetime.timedelta(seconds=end-start)))\n",
    "\n",
    "# # Linear Model\n",
    "\n",
    "memT,cpuT,gpuT = YN.StartLogger(\"Dataset_M_Instance_M\",\"LinearModel_LR\")\n",
    "start = time.time()\n",
    "LR.fit(X_train,y_train)\n",
    "predictions = LR.predict(X_test)\n",
    "meu.display_model_performance_metrics(true_labels=y_test, predicted_labels=predictions, classes=class_labels)\n",
    "end = time.time()\n",
    "YN.EndLogger(memT,cpuT,gpuT)\n",
    "print(\"total time Linear Model Logistic Regression\", str(datetime.timedelta(seconds=end-start)))\n",
    "\n",
    "\n",
    "\n",
    "\n"
   ]
  },
  {
   "cell_type": "code",
   "execution_count": 12,
   "metadata": {},
   "outputs": [
    {
     "name": "stdout",
     "output_type": "stream",
     "text": [
      "Model Performance metrics:\n",
      "------------------------------\n",
      "Accuracy: 0.4838\n",
      "Precision: 0.5358\n",
      "Recall: 0.4838\n",
      "F1 Score: 0.4408\n",
      "\n",
      "Model Classification report:\n",
      "------------------------------\n",
      "              precision    recall  f1-score   support\n",
      "\n",
      "           0       0.45      0.81      0.58     94841\n",
      "           1       0.60      0.23      0.33    120517\n",
      "\n",
      "    accuracy                           0.48    215358\n",
      "   macro avg       0.53      0.52      0.46    215358\n",
      "weighted avg       0.54      0.48      0.44    215358\n",
      "\n",
      "total time Linear Model KNN 0:33:11.950862\n"
     ]
    }
   ],
   "source": [
    "memT,cpuT,gpuT = YN.StartLogger(\"Dataset_M_Instance_M\",\"LinearModel_KNN\")\n",
    "start = time.time()\n",
    "KNN.fit(X_train,y_train)\n",
    "predictions = KNN.predict(X_test)\n",
    "meu.display_model_performance_metrics(true_labels=y_test, predicted_labels=predictions, classes=class_labels)\n",
    "end = time.time()\n",
    "YN.EndLogger(memT,cpuT,gpuT)\n",
    "print(\"total time Linear Model KNN\", str(datetime.timedelta(seconds=end-start)))"
   ]
  },
  {
   "cell_type": "code",
   "execution_count": 13,
   "metadata": {},
   "outputs": [
    {
     "name": "stdout",
     "output_type": "stream",
     "text": [
      "Model Performance metrics:\n",
      "------------------------------\n",
      "Accuracy: 0.6471\n",
      "Precision: 0.6486\n",
      "Recall: 0.6471\n",
      "F1 Score: 0.6305\n",
      "\n",
      "Model Classification report:\n",
      "------------------------------\n",
      "              precision    recall  f1-score   support\n",
      "\n",
      "           0       0.65      0.42      0.51     94841\n",
      "           1       0.64      0.82      0.72    120517\n",
      "\n",
      "    accuracy                           0.65    215358\n",
      "   macro avg       0.65      0.62      0.62    215358\n",
      "weighted avg       0.65      0.65      0.63    215358\n",
      "\n",
      "total time Non-Linear Model RF 0:01:37.664021\n",
      "Model Performance metrics:\n",
      "------------------------------\n",
      "Accuracy: 0.6695\n",
      "Precision: 0.6689\n",
      "Recall: 0.6695\n",
      "F1 Score: 0.6608\n",
      "\n",
      "Model Classification report:\n",
      "------------------------------\n",
      "              precision    recall  f1-score   support\n",
      "\n",
      "           0       0.67      0.50      0.57     94841\n",
      "           1       0.67      0.80      0.73    120517\n",
      "\n",
      "    accuracy                           0.67    215358\n",
      "   macro avg       0.67      0.65      0.65    215358\n",
      "weighted avg       0.67      0.67      0.66    215358\n",
      "\n",
      "total time Non-Linear Model XGB 0:01:08.148687\n"
     ]
    }
   ],
   "source": [
    "# In[18]:\n",
    "start = time.time()\n",
    "memT,cpuT,gpuT = YN.StartLogger(\"Dataset_M_Instance_M\",\"Non-LinearModel_RF\")\n",
    "RF.fit(X_train,y_train)\n",
    "predictions = RF.predict(X_test)\n",
    "meu.display_model_performance_metrics(true_labels=y_test, predicted_labels=predictions, classes=class_labels)\n",
    "end = time.time()\n",
    "YN.EndLogger(memT,cpuT,gpuT)\n",
    "print(\"total time Non-Linear Model RF\", str(datetime.timedelta(seconds=end-start)))\n",
    "\n",
    "\n",
    "start = time.time()\n",
    "memT,cpuT,gpuT = YN.StartLogger(\"Dataset_M_Instance_M\",\"Non-LinearModel_XGB\")\n",
    "XGB.fit(X_train,y_train)\n",
    "predictions = XGB.predict(X_test)\n",
    "meu.display_model_performance_metrics(true_labels=y_test, predicted_labels=predictions, classes=class_labels)\n",
    "end = time.time()\n",
    "YN.EndLogger(memT,cpuT,gpuT)\n",
    "print(\"total time Non-Linear Model XGB\", str(datetime.timedelta(seconds=end-start)))"
   ]
  },
  {
   "cell_type": "code",
   "execution_count": null,
   "metadata": {},
   "outputs": [],
   "source": []
  }
 ],
 "metadata": {
  "kernelspec": {
   "display_name": "Python 3",
   "language": "python",
   "name": "python3"
  },
  "language_info": {
   "codemirror_mode": {
    "name": "ipython",
    "version": 3
   },
   "file_extension": ".py",
   "mimetype": "text/x-python",
   "name": "python",
   "nbconvert_exporter": "python",
   "pygments_lexer": "ipython3",
   "version": "3.6.10"
  }
 },
 "nbformat": 4,
 "nbformat_minor": 2
}
